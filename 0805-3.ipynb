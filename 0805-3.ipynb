{
 "cells": [
  {
   "cell_type": "code",
   "execution_count": 1,
   "metadata": {},
   "outputs": [
    {
     "data": {
      "text/plain": [
       "array([[92, 80, 79, 86, 75],\n",
       "       [58, 58, 70, 76, 52],\n",
       "       [80, 57, 71, 50, 93],\n",
       "       [77, 59, 99, 57, 80],\n",
       "       [87, 80, 73, 72, 85],\n",
       "       [76, 88, 75, 55, 73],\n",
       "       [53, 76, 53, 90, 95],\n",
       "       [97, 59, 62, 88, 78],\n",
       "       [91, 92, 79, 55, 73],\n",
       "       [88, 62, 74, 63, 59]])"
      ]
     },
     "execution_count": 1,
     "metadata": {},
     "output_type": "execute_result"
    }
   ],
   "source": [
    "import numpy as np\n",
    "np.random.randint(50,100,size=(10,5))"
   ]
  },
  {
   "cell_type": "code",
   "execution_count": 5,
   "metadata": {},
   "outputs": [
    {
     "data": {
      "text/plain": [
       "學生1     212\n",
       "學生2     220\n",
       "學生3     282\n",
       "學生4     276\n",
       "學生5     219\n",
       "學生6     207\n",
       "學生7     264\n",
       "學生8     264\n",
       "學生9     211\n",
       "學生10    248\n",
       "dtype: int64"
      ]
     },
     "metadata": {},
     "output_type": "display_data"
    },
    {
     "data": {
      "text/plain": [
       "array([212, 220, 282, 276, 219, 207, 264, 264, 211, 248])"
      ]
     },
     "metadata": {},
     "output_type": "display_data"
    },
    {
     "data": {
      "text/plain": [
       "Index(['學生1', '學生2', '學生3', '學生4', '學生5', '學生6', '學生7', '學生8', '學生9', '學生10'], dtype='object')"
      ]
     },
     "metadata": {},
     "output_type": "display_data"
    }
   ],
   "source": [
    "#安裝套件 pip install --upguade pandas\n",
    "#\n",
    "\n",
    "import numpy as np\n",
    "import pandas as pd\n",
    "n1 = np.random.randint(200,300,size=(10,))\n",
    "# comprehension : [f'學生{i+1}' for i in range(10)]\n",
    "s1 = pd.Series(data=n1,index=[f'學生{i+1}' for i in range(10)])\n",
    "\n",
    "display(s1)\n",
    "display(s1.values)\n",
    "display(s1.index)"
   ]
  }
 ],
 "metadata": {
  "kernelspec": {
   "display_name": "Python 3",
   "language": "python",
   "name": "python3"
  },
  "language_info": {
   "codemirror_mode": {
    "name": "ipython",
    "version": 3
   },
   "file_extension": ".py",
   "mimetype": "text/x-python",
   "name": "python",
   "nbconvert_exporter": "python",
   "pygments_lexer": "ipython3",
   "version": "3.10.12"
  },
  "orig_nbformat": 4
 },
 "nbformat": 4,
 "nbformat_minor": 2
}
