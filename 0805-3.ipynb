{
 "cells": [
  {
   "cell_type": "code",
   "execution_count": 1,
   "metadata": {},
   "outputs": [
    {
     "data": {
      "text/plain": [
       "array([[92, 80, 79, 86, 75],\n",
       "       [58, 58, 70, 76, 52],\n",
       "       [80, 57, 71, 50, 93],\n",
       "       [77, 59, 99, 57, 80],\n",
       "       [87, 80, 73, 72, 85],\n",
       "       [76, 88, 75, 55, 73],\n",
       "       [53, 76, 53, 90, 95],\n",
       "       [97, 59, 62, 88, 78],\n",
       "       [91, 92, 79, 55, 73],\n",
       "       [88, 62, 74, 63, 59]])"
      ]
     },
     "execution_count": 1,
     "metadata": {},
     "output_type": "execute_result"
    }
   ],
   "source": [
    "import numpy as np\n",
    "np.random.randint(50,100,size=(10,5))"
   ]
  },
  {
   "cell_type": "code",
   "execution_count": 5,
   "metadata": {},
   "outputs": [
    {
     "data": {
      "text/plain": [
       "學生1     212\n",
       "學生2     220\n",
       "學生3     282\n",
       "學生4     276\n",
       "學生5     219\n",
       "學生6     207\n",
       "學生7     264\n",
       "學生8     264\n",
       "學生9     211\n",
       "學生10    248\n",
       "dtype: int64"
      ]
     },
     "metadata": {},
     "output_type": "display_data"
    },
    {
     "data": {
      "text/plain": [
       "array([212, 220, 282, 276, 219, 207, 264, 264, 211, 248])"
      ]
     },
     "metadata": {},
     "output_type": "display_data"
    },
    {
     "data": {
      "text/plain": [
       "Index(['學生1', '學生2', '學生3', '學生4', '學生5', '學生6', '學生7', '學生8', '學生9', '學生10'], dtype='object')"
      ]
     },
     "metadata": {},
     "output_type": "display_data"
    }
   ],
   "source": [
    "#安裝套件 pip install --upguade pandas\n",
    "#\n",
    "\n",
    "import numpy as np\n",
    "import pandas as pd\n",
    "n1 = np.random.randint(200,300,size=(10,))\n",
    "# comprehension : [f'學生{i+1}' for i in range(10)]\n",
    "s1 = pd.Series(data=n1,index=[f'學生{i+1}' for i in range(10)])\n",
    "\n",
    "display(s1)\n",
    "display(s1.values)\n",
    "display(s1.index)"
   ]
  },
  {
   "cell_type": "code",
   "execution_count": 6,
   "metadata": {},
   "outputs": [
    {
     "name": "stdout",
     "output_type": "stream",
     "text": [
      "郭雅慧、姜怡君、陳雅婷、邵怡君、張雅雯、丁兆友、周舒婷、邱俊桂、陳建綸、鄭雅文、傅維木、畢惠美、羅廷林、陳建安、劉隆其、張育旭、陳欣雨、郭旭達、黃信喜、邱幸仁、朱俊翔、張奇桓、翁秀娟、簡瑩甫、韓浩為、王秉鴻、陳姿彥、林宜亨、王郁惟、黃子昀、陳嘉文、汪立伯、江志添、陳淑貞、王正秀、曹怡君、謝意瑄、陳瑩慧、溫秀美、陳思善、陳永妃、楊淑貞、王靜芳、黃舒涵、魏俊安、宋懿美、黃盈如、洪慧茹、洪必雅、李美珠、陳家綺、陳宗翰、洪又方、黃昱定、陳容方、張懿冰、閔雅惠、吳元光、劉玉郁、黃文旭、鄭志銘、楊宜臻、王亭璇、李偉慧、鐘靖美、曾淑任、林明憲、林雲凡、蘇婉婷、黃聿鴻、賴旺康、邱耀德、卓均毓、許家瑋、賴俐月、盧柏南、謝珊漢、林玉侑、葉鈺林、林佩珊、戈君玫、陳麗娟、黃翔盛、陳竹諭、陳右君、陳麗青、姜向佐、徐軍愛、林憶賢、羅治江、倪靜雯、陳淑媛、張上志、王呈云、傅佳霖、洪卓生、林�琝Q、陳昱宣、沈興琦、王素貞\n"
     ]
    }
   ],
   "source": [
    "import requests\n",
    "import pandas as pd\n",
    "\n",
    "# 設定time為獲取中文姓名100筆的倍數。time=3，就是300筆的意思。\n",
    "times = 1\n",
    "cnames = []\n",
    "for x in range(times):\n",
    "    url = 'http://www.richyli.com/name/index.asp'\n",
    "    r = requests.get(url)\n",
    "    r.encoding = 'big5'\n",
    "    \n",
    "    # 將網頁中的資料以分行的方式存成文字檔\n",
    "    result = r.text.splitlines()\n",
    "    \n",
    "    # 114是中文姓名開始的列，找到最後一個「、」，設定成為字串的切片位置。\n",
    "    char_index = result[114].rfind(\"、\")\n",
    "    temp = result[114][:char_index]\n",
    "    \n",
    "    # 將temp的100筆姓名新增到cnames中\n",
    "    cnames.append(temp)\n",
    "\n",
    "# 將每100筆姓名的list加一個「、」，再組合成字串存到my_names中\n",
    "my_names = \"、\".join(str(x) for x in cnames)\n",
    "print(my_names)"
   ]
  },
  {
   "cell_type": "code",
   "execution_count": 17,
   "metadata": {},
   "outputs": [
    {
     "name": "stdout",
     "output_type": "stream",
     "text": [
      "<class 'str'>\n"
     ]
    }
   ],
   "source": [
    "import requests\n",
    "def getNames(num):\n",
    "    times = 1\n",
    "    cnames = []\n",
    "    for x in range(times):\n",
    "        url = 'http://www.richyli.com/name/index.asp'\n",
    "        r = requests.get(url)\n",
    "        r.encoding = 'big5'\n",
    "        \n",
    "        # 將網頁中的資料以分行的方式存成文字檔\n",
    "        result = r.text.splitlines()\n",
    "        \n",
    "        # 114是中文姓名開始的列，找到最後一個「、」，設定成為字串的切片位置。\n",
    "        char_index = result[114].rfind(\"、\")\n",
    "        temp = result[114][:char_index]\n",
    "        \n",
    "        # 將temp的100筆姓名新增到cnames中\n",
    "        cnames.append(temp)\n",
    "    print(type(cnames[0]))\n",
    "    names = cnames[0].split('、')\n",
    "    return names[:num]\n",
    "\n",
    "\n",
    "names = getNames(100)  "
   ]
  },
  {
   "cell_type": "code",
   "execution_count": 23,
   "metadata": {},
   "outputs": [
    {
     "data": {
      "text/html": [
       "<div>\n",
       "<style scoped>\n",
       "    .dataframe tbody tr th:only-of-type {\n",
       "        vertical-align: middle;\n",
       "    }\n",
       "\n",
       "    .dataframe tbody tr th {\n",
       "        vertical-align: top;\n",
       "    }\n",
       "\n",
       "    .dataframe thead th {\n",
       "        text-align: right;\n",
       "    }\n",
       "</style>\n",
       "<table border=\"1\" class=\"dataframe\">\n",
       "  <thead>\n",
       "    <tr style=\"text-align: right;\">\n",
       "      <th></th>\n",
       "      <th>國文</th>\n",
       "      <th>英文</th>\n",
       "      <th>數學</th>\n",
       "      <th>地理</th>\n",
       "      <th>歷史</th>\n",
       "    </tr>\n",
       "  </thead>\n",
       "  <tbody>\n",
       "    <tr>\n",
       "      <th>鄧志杰</th>\n",
       "      <td>59</td>\n",
       "      <td>95</td>\n",
       "      <td>92</td>\n",
       "      <td>91</td>\n",
       "      <td>54</td>\n",
       "    </tr>\n",
       "    <tr>\n",
       "      <th>彭雅名</th>\n",
       "      <td>62</td>\n",
       "      <td>77</td>\n",
       "      <td>70</td>\n",
       "      <td>85</td>\n",
       "      <td>61</td>\n",
       "    </tr>\n",
       "    <tr>\n",
       "      <th>江昌純</th>\n",
       "      <td>72</td>\n",
       "      <td>53</td>\n",
       "      <td>83</td>\n",
       "      <td>76</td>\n",
       "      <td>84</td>\n",
       "    </tr>\n",
       "    <tr>\n",
       "      <th>林佩君</th>\n",
       "      <td>69</td>\n",
       "      <td>77</td>\n",
       "      <td>58</td>\n",
       "      <td>62</td>\n",
       "      <td>67</td>\n",
       "    </tr>\n",
       "    <tr>\n",
       "      <th>陳慧玲</th>\n",
       "      <td>53</td>\n",
       "      <td>54</td>\n",
       "      <td>93</td>\n",
       "      <td>88</td>\n",
       "      <td>88</td>\n",
       "    </tr>\n",
       "    <tr>\n",
       "      <th>李佳玲</th>\n",
       "      <td>89</td>\n",
       "      <td>90</td>\n",
       "      <td>91</td>\n",
       "      <td>90</td>\n",
       "      <td>50</td>\n",
       "    </tr>\n",
       "    <tr>\n",
       "      <th>陳曉諭</th>\n",
       "      <td>64</td>\n",
       "      <td>88</td>\n",
       "      <td>66</td>\n",
       "      <td>70</td>\n",
       "      <td>53</td>\n",
       "    </tr>\n",
       "    <tr>\n",
       "      <th>謝麗娟</th>\n",
       "      <td>89</td>\n",
       "      <td>68</td>\n",
       "      <td>67</td>\n",
       "      <td>85</td>\n",
       "      <td>94</td>\n",
       "    </tr>\n",
       "    <tr>\n",
       "      <th>孫彥安</th>\n",
       "      <td>82</td>\n",
       "      <td>78</td>\n",
       "      <td>57</td>\n",
       "      <td>81</td>\n",
       "      <td>50</td>\n",
       "    </tr>\n",
       "    <tr>\n",
       "      <th>楊茜禎</th>\n",
       "      <td>89</td>\n",
       "      <td>70</td>\n",
       "      <td>77</td>\n",
       "      <td>53</td>\n",
       "      <td>86</td>\n",
       "    </tr>\n",
       "  </tbody>\n",
       "</table>\n",
       "</div>"
      ],
      "text/plain": [
       "     國文  英文  數學  地理  歷史\n",
       "鄧志杰  59  95  92  91  54\n",
       "彭雅名  62  77  70  85  61\n",
       "江昌純  72  53  83  76  84\n",
       "林佩君  69  77  58  62  67\n",
       "陳慧玲  53  54  93  88  88\n",
       "李佳玲  89  90  91  90  50\n",
       "陳曉諭  64  88  66  70  53\n",
       "謝麗娟  89  68  67  85  94\n",
       "孫彥安  82  78  57  81  50\n",
       "楊茜禎  89  70  77  53  86"
      ]
     },
     "execution_count": 23,
     "metadata": {},
     "output_type": "execute_result"
    }
   ],
   "source": [
    "import numpy as np\n",
    "import pandas as pd\n",
    "\n",
    "n2 = np.random.randint(50,100,size=(10,5))\n",
    "dataFrame = pd.DataFrame(data=n2,\n",
    "             index=names[:10],\n",
    "             columns=[\"國文\",\"英文\",\"數學\",\"地理\",\"歷史\"]\n",
    "             )\n",
    "dataFrame"
   ]
  }
 ],
 "metadata": {
  "kernelspec": {
   "display_name": "Python 3",
   "language": "python",
   "name": "python3"
  },
  "language_info": {
   "codemirror_mode": {
    "name": "ipython",
    "version": 3
   },
   "file_extension": ".py",
   "mimetype": "text/x-python",
   "name": "python",
   "nbconvert_exporter": "python",
   "pygments_lexer": "ipython3",
   "version": "3.10.12"
  },
  "orig_nbformat": 4
 },
 "nbformat": 4,
 "nbformat_minor": 2
}
