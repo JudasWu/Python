{
 "cells": [
  {
   "cell_type": "code",
   "execution_count": null,
   "metadata": {},
   "outputs": [],
   "source": [
    "for i in range(1,10,2):\n",
    "    print(i)"
   ]
  },
  {
   "cell_type": "code",
   "execution_count": null,
   "metadata": {},
   "outputs": [],
   "source": [
    "for i in range(1,10,1):\n",
    "    \n",
    "    for j in range(1,10):\n",
    "        print(f'{i}*{j}={i*j}',end=' ')\n",
    "    print('\\n')"
   ]
  },
  {
   "cell_type": "code",
   "execution_count": null,
   "metadata": {},
   "outputs": [],
   "source": [
    "deposit = 0\n",
    "month = 1\n",
    "while(deposit<30000):\n",
    "    print(f'現在第{month}個月，只有{deposit}元無法買車。')\n",
    "    value=int(input('輸入本次存款金額:'))\n",
    "    deposit += value\n",
    "    month+=1\n",
    "     \n",
    "print(f'現在第{month-1}個月，有{deposit}元可以買車了')"
   ]
  },
  {
   "cell_type": "code",
   "execution_count": 6,
   "metadata": {},
   "outputs": [
    {
     "name": "stdout",
     "output_type": "stream",
     "text": [
      "爆炸了!!!\n"
     ]
    }
   ],
   "source": [
    "import random\n",
    "min = 0\n",
    "max = 100\n",
    "bomb = random.randint(min,max)\n",
    "\n",
    "value = -1\n",
    "while value != bomb:\n",
    "    value = int(input(f'請猜{min}~{max}的數字:'))\n",
    "    \n",
    "    if value < min or value > max:\n",
    "        continue\n",
    "    elif value > bomb :\n",
    "        max=value\n",
    "    else:\n",
    "        min = value\n",
    "print(\"爆炸了!!!\")\n",
    "        "
   ]
  },
  {
   "cell_type": "code",
   "execution_count": null,
   "metadata": {},
   "outputs": [],
   "source": [
    "#亂數\n",
    "import random\n",
    "# random.randrange(10)\n",
    "random.randint(5,10)"
   ]
  },
  {
   "cell_type": "code",
   "execution_count": null,
   "metadata": {},
   "outputs": [],
   "source": [
    "import random\n",
    "\n",
    "min = 1\n",
    "max = 100\n",
    "target = random.randint(min,max)\n",
    "print(target)"
   ]
  }
 ],
 "metadata": {
  "kernelspec": {
   "display_name": "Python 3",
   "language": "python",
   "name": "python3"
  },
  "language_info": {
   "codemirror_mode": {
    "name": "ipython",
    "version": 3
   },
   "file_extension": ".py",
   "mimetype": "text/x-python",
   "name": "python",
   "nbconvert_exporter": "python",
   "pygments_lexer": "ipython3",
   "version": "3.10.4"
  },
  "orig_nbformat": 4
 },
 "nbformat": 4,
 "nbformat_minor": 2
}
