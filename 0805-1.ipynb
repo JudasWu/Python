import numpy as np
import matplotlib.pyplot as plt

x = np.linspace(-3,3,50)
display(x)
figure = plt.figure(figsize=(8,4))
axes = figure.add_subplot()
axes.plot(x)
plt.show()