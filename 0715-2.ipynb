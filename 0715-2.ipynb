{
 "cells": [
  {
   "cell_type": "code",
   "execution_count": 9,
   "metadata": {},
   "outputs": [
    {
     "name": "stdout",
     "output_type": "stream",
     "text": [
      "[[36, 20, 42, 58, 45], [76, 1, 64, 63, 40], [93, 30, 85, 69, 52], [59, 94, 13, 59, 81], [10, 35, 32, 10, 69], [39, 41, 33, 37, 94], [64, 84, 13, 9, 57], [74, 29, 54, 2, 76], [0, 21, 98, 64, 100], [98, 80, 5, 63, 70]]\n"
     ]
    }
   ],
   "source": [
    "#建立10個學生 各有5個成績的資料\n",
    "import random\n",
    "student=list()\n",
    "for _ in range(10):\n",
    "    stu1=list()\n",
    "    for _ in range(5):\n",
    "        stu1.append(random.randint(0,100))\n",
    "    student.append(stu1)\n",
    "student\n"
   ]
  }
 ],
 "metadata": {
  "kernelspec": {
   "display_name": "Python 3",
   "language": "python",
   "name": "python3"
  },
  "language_info": {
   "codemirror_mode": {
    "name": "ipython",
    "version": 3
   },
   "file_extension": ".py",
   "mimetype": "text/x-python",
   "name": "python",
   "nbconvert_exporter": "python",
   "pygments_lexer": "ipython3",
   "version": "3.10.4"
  },
  "orig_nbformat": 4
 },
 "nbformat": 4,
 "nbformat_minor": 2
}
