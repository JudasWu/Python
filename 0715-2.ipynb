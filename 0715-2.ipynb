{
 "cells": [
  {
   "cell_type": "code",
   "execution_count": 8,
   "metadata": {},
   "outputs": [
    {
     "data": {
      "text/plain": [
       "[[88, 67, 98, 54, 27],\n",
       " [76, 53, 24, 35, 93],\n",
       " [100, 98, 35, 99, 75],\n",
       " [20, 61, 50, 4, 20],\n",
       " [68, 39, 30, 59, 1],\n",
       " [31, 20, 12, 18, 53],\n",
       " [49, 8, 36, 83, 45],\n",
       " [40, 84, 96, 81, 35],\n",
       " [13, 4, 20, 49, 18],\n",
       " [19, 3, 47, 97, 20]]"
      ]
     },
     "execution_count": 8,
     "metadata": {},
     "output_type": "execute_result"
    }
   ],
   "source": [
    "#建立10個學生 各有5個成績的資料\n",
    "import random\n",
    "student=list()\n",
    "for _ in range(10):\n",
    "    stu1=list()\n",
    "    for _ in range(5):\n",
    "        stu1.append(random.randint(0,100))\n",
    "    student.append(stu1)\n",
    "student\n"
   ]
  },
  {
   "cell_type": "markdown",
   "metadata": {},
   "source": [
    "學習怎麼把文字紀錄成文字檔"
   ]
  },
  {
   "cell_type": "code",
   "execution_count": 3,
   "metadata": {},
   "outputs": [],
   "source": [
    "\n",
    "text = '''宣告要寫入文字的檔案內容\n",
    "1.可以有多行文字的方式\n",
    "2.犇這個字必須是utf8編碼才有。\n",
    "'''\n",
    "\n",
    "file1 = open('文字存檔練習.txt',mode='w')\n",
    "print(text,file=file1)\n",
    "file1.close()"
   ]
  },
  {
   "cell_type": "code",
   "execution_count": 5,
   "metadata": {},
   "outputs": [],
   "source": [
    "file = open('test-1.txt',mode='w',encoding='utf-8')\n",
    "file.write('第一行 \\n')\n",
    "file.writelines('''\n",
    "第二行\n",
    "第三行\n",
    "                第四行''')\n",
    "file.close()"
   ]
  },
  {
   "cell_type": "code",
   "execution_count": 6,
   "metadata": {},
   "outputs": [
    {
     "data": {
      "text/plain": [
       "'第一行 \\n\\n第二行\\n第三行\\n                第四行'"
      ]
     },
     "execution_count": 6,
     "metadata": {},
     "output_type": "execute_result"
    }
   ],
   "source": [
    "file = open('test-1.txt',mode='r',encoding='utf-8')\n",
    "all_text = file.read()\n",
    "all_text"
   ]
  },
  {
   "cell_type": "code",
   "execution_count": 7,
   "metadata": {},
   "outputs": [
    {
     "name": "stdout",
     "output_type": "stream",
     "text": [
      "第一行 \n",
      "\n",
      "第二行\n",
      "第三行\n",
      "                第四行\n"
     ]
    }
   ],
   "source": [
    "file = open('test-1.txt',mode='r',encoding='utf-8')\n",
    "all_text = file.read()\n",
    "print(all_text)"
   ]
  },
  {
   "cell_type": "code",
   "execution_count": 11,
   "metadata": {},
   "outputs": [],
   "source": [
    "#建立10個學生 各有5個成績的資料檔案\n",
    "import csv\n",
    "csv_write_file = open('student.csv',mode='w',newline='',encoding='utf-8')\n",
    "csv_writer = csv.writer(csv_write_file)\n",
    "csv_writer.writerow(['國文','英文','數學','地理','歷史'])\n",
    "csv_writer.writerows(student)\n",
    "csv_write_file.close()"
   ]
  }
 ],
 "metadata": {
  "kernelspec": {
   "display_name": "Python 3",
   "language": "python",
   "name": "python3"
  },
  "language_info": {
   "codemirror_mode": {
    "name": "ipython",
    "version": 3
   },
   "file_extension": ".py",
   "mimetype": "text/x-python",
   "name": "python",
   "nbconvert_exporter": "python",
   "pygments_lexer": "ipython3",
   "version": "3.10.4"
  },
  "orig_nbformat": 4
 },
 "nbformat": 4,
 "nbformat_minor": 2
}
