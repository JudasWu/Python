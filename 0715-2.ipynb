{
 "cells": [
  {
   "cell_type": "code",
   "execution_count": 8,
   "metadata": {},
   "outputs": [
    {
     "name": "stdout",
     "output_type": "stream",
     "text": [
      "[[27, 37, 60, 89, 52], [17, 32, 65, 8, 0], [44, 30, 2, 35, 15], [38, 96, 0, 45, 89], [97, 38, 98, 100, 22], [99, 96, 55, 82, 57], [88, 79, 70, 27, 75], [92, 62, 55, 31, 38], [23, 40, 23, 59, 100], [22, 76, 36, 10, 36]]\n"
     ]
    },
    {
     "data": {
      "text/plain": [
       "[99, 96, 55, 82, 57]"
      ]
     },
     "execution_count": 8,
     "metadata": {},
     "output_type": "execute_result"
    }
   ],
   "source": [
    "#建立10個學生 各有5個成績的資料\n",
    "import random\n",
    "student=list()\n",
    "for _ in range(10):\n",
    "    stu1=list()\n",
    "    for _ in range(5):\n",
    "        stu1.append(random.randint(0,100))\n",
    "    student.append(stu1)\n",
    "print(student)\n"
   ]
  }
 ],
 "metadata": {
  "kernelspec": {
   "display_name": "Python 3",
   "language": "python",
   "name": "python3"
  },
  "language_info": {
   "codemirror_mode": {
    "name": "ipython",
    "version": 3
   },
   "file_extension": ".py",
   "mimetype": "text/x-python",
   "name": "python",
   "nbconvert_exporter": "python",
   "pygments_lexer": "ipython3",
   "version": "3.10.4"
  },
  "orig_nbformat": 4
 },
 "nbformat": 4,
 "nbformat_minor": 2
}
