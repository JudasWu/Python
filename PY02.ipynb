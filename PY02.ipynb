{
 "cells": [
  {
   "attachments": {},
   "cell_type": "markdown",
   "metadata": {},
   "source": [
    "數字為固定暫存位置，變數去指向數字位置"
   ]
  },
  {
   "cell_type": "code",
   "execution_count": 10,
   "metadata": {},
   "outputs": [
    {
     "name": "stdout",
     "output_type": "stream",
     "text": [
      "<class 'int'>\n",
      "140716044117480\n",
      "140716044117480\n",
      "140716044117480\n"
     ]
    }
   ],
   "source": [
    "a=200-177\n",
    "b=23\n",
    "c=a\n",
    "print(type(a))\n",
    "print(id(a))\n",
    "print(id(b))\n",
    "print(id(c))"
   ]
  },
  {
   "cell_type": "code",
   "execution_count": 14,
   "metadata": {},
   "outputs": [
    {
     "name": "stdout",
     "output_type": "stream",
     "text": [
      "(10+5j) 1917664078608\n",
      "(10+5j) 1917664078992\n"
     ]
    }
   ],
   "source": [
    "a=10\n",
    "b=10.0\n",
    "c=10+5j\n",
    "d=complex(10,5)\n",
    "type(a+b)\n",
    "type(c)\n",
    "print(c,id(c))\n",
    "print(d,id(d))"
   ]
  },
  {
   "attachments": {},
   "cell_type": "markdown",
   "metadata": {},
   "source": [
    "字串"
   ]
  },
  {
   "cell_type": "code",
   "execution_count": 1,
   "metadata": {},
   "outputs": [
    {
     "name": "stdout",
     "output_type": "stream",
     "text": [
      "<class 'str'>\n",
      "<class 'str'>\n",
      "<class 'str'>\n"
     ]
    }
   ],
   "source": [
    "a='aaa'\n",
    "b=\"bbb\"\n",
    "c='''ccc'''\n",
    "print(type(a))\n",
    "print(type(b))\n",
    "print(type(c))"
   ]
  },
  {
   "cell_type": "code",
   "execution_count": 18,
   "metadata": {},
   "outputs": [
    {
     "name": "stdout",
     "output_type": "stream",
     "text": [
      "Hello,world\n",
      "ell\n",
      "dlrow,olleH\n",
      "HELLO,WORLD\n",
      "hello,world\n",
      "Python,world\n",
      "['Hello', 'world']\n",
      "-1\n"
     ]
    }
   ],
   "source": [
    "a='Hello,'\n",
    "b=\"world\"\n",
    "str = a + b\n",
    "print(str)\n",
    "print(str[1:4])\n",
    "print(str[::-1])\n",
    "print(str.upper())\n",
    "print(str.lower())\n",
    "print(str.replace('Hello','Python'))\n",
    "c=str.split(',')\n",
    "print(c)\n",
    "\n",
    "\n"
   ]
  },
  {
   "cell_type": "code",
   "execution_count": 25,
   "metadata": {},
   "outputs": [
    {
     "name": "stdout",
     "output_type": "stream",
     "text": [
      "-1\n",
      "hello,Python\n"
     ]
    },
    {
     "data": {
      "text/plain": [
       "'h e l l o , P y t h o n'"
      ]
     },
     "execution_count": 25,
     "metadata": {},
     "output_type": "execute_result"
    }
   ],
   "source": [
    "str_1 = '   hello,Python   '\n",
    "print(str_1.find('p'))\n",
    "print(str_1.strip(' '))\n",
    "str_2 = 'hello,Python'\n",
    "str_3 =' '\n",
    "str_3.join(str_2)"
   ]
  },
  {
   "attachments": {},
   "cell_type": "markdown",
   "metadata": {},
   "source": [
    "輸入+輸出+f-string"
   ]
  },
  {
   "cell_type": "code",
   "execution_count": 42,
   "metadata": {},
   "outputs": [
    {
     "name": "stdout",
     "output_type": "stream",
     "text": [
      "你輸入的數字是 6\n",
      "你輸入的數字是6\n"
     ]
    }
   ],
   "source": [
    "num = input('輸入一個值:')\n",
    "print('你輸入的數字是',num)\n",
    "print(f'你輸入的數字是{num}')"
   ]
  },
  {
   "attachments": {},
   "cell_type": "markdown",
   "metadata": {},
   "source": []
  }
 ],
 "metadata": {
  "kernelspec": {
   "display_name": "Python 3",
   "language": "python",
   "name": "python3"
  },
  "language_info": {
   "codemirror_mode": {
    "name": "ipython",
    "version": 3
   },
   "file_extension": ".py",
   "mimetype": "text/x-python",
   "name": "python",
   "nbconvert_exporter": "python",
   "pygments_lexer": "ipython3",
   "version": "3.11.4"
  },
  "orig_nbformat": 4
 },
 "nbformat": 4,
 "nbformat_minor": 2
}
