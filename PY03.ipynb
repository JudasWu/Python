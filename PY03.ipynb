{
 "cells": [
  {
   "attachments": {},
   "cell_type": "markdown",
   "metadata": {},
   "source": [
    "多重賦值 數值交換"
   ]
  },
  {
   "cell_type": "code",
   "execution_count": 4,
   "metadata": {},
   "outputs": [
    {
     "name": "stdout",
     "output_type": "stream",
     "text": [
      "x= 1 y= 2\n",
      "x= 2 y= 1\n"
     ]
    }
   ],
   "source": [
    "x,y = 1,2\n",
    "print('x=',x,'y=',y)\n",
    "x,y = y,x\n",
    "print('x=',x,'y=',y)\n"
   ]
  },
  {
   "attachments": {},
   "cell_type": "markdown",
   "metadata": {},
   "source": [
    "淺層複製 copy   "
   ]
  },
  {
   "cell_type": "code",
   "execution_count": 11,
   "metadata": {},
   "outputs": [
    {
     "name": "stdout",
     "output_type": "stream",
     "text": [
      "[[1, 2, 3], [4, 5, 6]]\n",
      "[[1, 2, 3], [4, 5, 6]]\n",
      "[[9, 2, 3], [4, 5, 6]]\n",
      "[[9, 2, 3], [4, 5, 6]]\n",
      "1864563623360\n",
      "1864563549632\n"
     ]
    }
   ],
   "source": [
    "list1 = [ [1,2,3],[4,5,6]]\n",
    "list2 = list1.copy()\n",
    "print(list1)\n",
    "print(list2)\n",
    "list1[0][0]=9\n",
    "print(list1)\n",
    "print(list2)\n",
    "print(id(list1))\n",
    "print(id(list2))"
   ]
  },
  {
   "attachments": {},
   "cell_type": "markdown",
   "metadata": {},
   "source": [
    "深層複製deepcopy"
   ]
  },
  {
   "cell_type": "code",
   "execution_count": 12,
   "metadata": {},
   "outputs": [
    {
     "name": "stdout",
     "output_type": "stream",
     "text": [
      "[[1, 2, 3], [4, 5, 6]]\n",
      "[[1, 2, 3], [4, 5, 6]]\n",
      "[[9, 2, 3], [4, 5, 6]]\n",
      "[[1, 2, 3], [4, 5, 6]]\n",
      "1864563544128\n",
      "1864563624128\n"
     ]
    }
   ],
   "source": [
    "import copy\n",
    "\n",
    "list1 = [ [1,2,3],[4,5,6]]\n",
    "list2 = copy.deepcopy(list1)\n",
    "print(list1)\n",
    "print(list2)\n",
    "list1[0][0]=9\n",
    "print(list1)\n",
    "print(list2)\n",
    "print(id(list1))\n",
    "print(id(list2))"
   ]
  },
  {
   "attachments": {},
   "cell_type": "markdown",
   "metadata": {},
   "source": [
    "四捨五入\n",
    "1.Banker Rounding \n",
    "會進位到最接近的偶位數"
   ]
  },
  {
   "cell_type": "code",
   "execution_count": 15,
   "metadata": {},
   "outputs": [
    {
     "name": "stdout",
     "output_type": "stream",
     "text": [
      "對a做四捨五入: 4\n",
      "對b做四捨五入: 4\n"
     ]
    }
   ],
   "source": [
    "a=3.5\n",
    "b=4.5\n",
    "print('對a做四捨五入:',round(a))\n",
    "print('對b做四捨五入:',round(b))"
   ]
  },
  {
   "attachments": {},
   "cell_type": "markdown",
   "metadata": {},
   "source": [
    "四捨五入\n",
    "1.數學意義上的四捨五入"
   ]
  },
  {
   "cell_type": "code",
   "execution_count": null,
   "metadata": {},
   "outputs": [],
   "source": []
  },
  {
   "cell_type": "code",
   "execution_count": 22,
   "metadata": {},
   "outputs": [
    {
     "name": "stdout",
     "output_type": "stream",
     "text": [
      "對a做四捨五入: 3\n",
      "對b做四捨五入: 5\n"
     ]
    }
   ],
   "source": [
    "import math\n",
    "a=3.5\n",
    "b=4.5\n",
    "print('對a做四捨五入:',math.floor(a))\n",
    "print('對b做四捨五入:',math.ceil(b))"
   ]
  },
  {
   "attachments": {},
   "cell_type": "markdown",
   "metadata": {},
   "source": [
    "字串插補"
   ]
  },
  {
   "cell_type": "code",
   "execution_count": 25,
   "metadata": {},
   "outputs": [
    {
     "name": "stdout",
     "output_type": "stream",
     "text": [
      "My name is Judas,and I am 18 years old\n"
     ]
    }
   ],
   "source": [
    "name = 'Judas'\n",
    "age = 18\n",
    "print('My name is %s,and I am %d years old'%(name,age))"
   ]
  },
  {
   "cell_type": "code",
   "execution_count": 26,
   "metadata": {},
   "outputs": [
    {
     "name": "stdout",
     "output_type": "stream",
     "text": [
      "My name is Judas,and I am 18 years old\n"
     ]
    }
   ],
   "source": [
    "name = 'Judas'\n",
    "age = 18\n",
    "print('My name is {},and I am {} years old'.format(name,age))"
   ]
  }
 ],
 "metadata": {
  "kernelspec": {
   "display_name": "Python 3",
   "language": "python",
   "name": "python3"
  },
  "language_info": {
   "codemirror_mode": {
    "name": "ipython",
    "version": 3
   },
   "file_extension": ".py",
   "mimetype": "text/x-python",
   "name": "python",
   "nbconvert_exporter": "python",
   "pygments_lexer": "ipython3",
   "version": "3.11.4"
  },
  "orig_nbformat": 4
 },
 "nbformat": 4,
 "nbformat_minor": 2
}
